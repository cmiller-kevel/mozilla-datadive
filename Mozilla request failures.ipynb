{
 "cells": [
  {
   "cell_type": "code",
   "execution_count": 123,
   "id": "eecde489",
   "metadata": {},
   "outputs": [],
   "source": [
    "import pandas as pd\n",
    "from dateutil.parser import isoparse\n",
    "\n",
    "\n",
    "start = isoparse(\"2022-12-01 00:00:00+0000\")\n",
    "breakpoint = isoparse(\"2023-02-08 00:00:00+0000\")\n",
    "stop = isoparse(\"2023-03-07 23:59:59+0000\")\n",
    "\n",
    "sec_to_day = lambda x: x * 60 * 60 * 24\n",
    "\n",
    "# DataDog was being weird, probably on account of the incredibly small amount of data for failed requests,\n",
    "# so I had to split these into successful (ok) and unsuccessful (not_ok) requests\n",
    "ok = pd.read_csv(\"data/adzerk/ok.csv\")\n",
    "not_ok = pd.read_csv(\"data/adzerk/not_ok.csv\")\n",
    "\n",
    "\n",
    "# All the bad requests that showed up in DataDog, sorted by their error codes\n",
    "fivehundreds = not_ok.loc[not_ok.group == \"bifrost.status:500\"].loc[not_ok.value.isna() == False].reset_index()\n",
    "fivehundreds = fivehundreds.rename(columns = {\"value\": \"500s/sec\"})\n",
    "fourtwonines = not_ok.loc[not_ok.group == \"bifrost.status:429\"].loc[not_ok.value.isna() == False].reset_index()\n",
    "fourtwonines = fourtwonines.rename(columns = {\"value\": \"429s/sec\"})\n",
    "fourzeroones = not_ok.loc[not_ok.group == \"bifrost.status:401\"].loc[not_ok.value.isna() == False].reset_index()\n",
    "fourzeroones = fourzeroones.rename(columns={\"value\": \"401s/sec\"})\n",
    "\n",
    "# All the normal requests\n",
    "ok = ok.rename(columns={\"value\": \"200s/sec\"})\n",
    "ok = ok.loc[ok.time.apply(isoparse) >= start].loc[ok.time.apply(isoparse) <= stop].reset_index()\n",
    "\n",
    "\n",
    "# Smoosh everything into a single dataframe\n",
    "df = ok[[\"time\", \"200s/sec\"]].merge(fourzeroones[[\"time\", \"401s/sec\"]], on=\"time\", how=\"left\")\n",
    "df = df.merge(fourtwonines[[\"time\", \"429s/sec\"]], on=\"time\", how=\"left\")\n",
    "df = df.merge(fivehundreds[[\"time\", \"500s/sec\"]], on=\"time\", how=\"left\")\n",
    "df = df.fillna(0)\n",
    "\n",
    "# Add daily values\n",
    "df[\"total 200s\"] = df[\"200s/sec\"].apply(sec_to_day).round(0).apply(int)\n",
    "df[\"total 401s\"] = df[\"401s/sec\"].apply(sec_to_day).round(0).apply(int)\n",
    "df[\"total 429s\"] = df[\"429s/sec\"].apply(sec_to_day).round(0).apply(int)\n",
    "df[\"total 500s\"] = df[\"500s/sec\"].apply(sec_to_day).round(0).apply(int)\n",
    "df[\"total errors\"] = df[\"total 401s\"] + \\\n",
    "                     df[\"total 429s\"] + \\\n",
    "                     df[\"total 500s\"]\n",
    "\n",
    "# failure rate per day\n",
    "df[\"failure %\"] = df[\"total errors\"] / (df[\"total errors\"] + df[\"total 200s\"]) * 100\n",
    "df = df.fillna(0)\n",
    "\n",
    "# divide the dataset using Mozilla's initial division: Dec 1 - Feb 7, Feb 8 - Mar 7\n",
    "before = df.loc[df.time.apply(isoparse) < breakpoint].reset_index()\n",
    "after = df.loc[df.time.apply(isoparse) >= breakpoint].reset_index()"
   ]
  },
  {
   "cell_type": "code",
   "execution_count": 158,
   "id": "b38fdd31",
   "metadata": {},
   "outputs": [
    {
     "name": "stdout",
     "output_type": "stream",
     "text": [
      "Failure percentage before Feb 7 0.000002%\n",
      "Failure percentage after Feb 7  0.000029%\n"
     ]
    }
   ],
   "source": [
    "fail_rate_before = before[\"total errors\"].sum() / (before[\"total errors\"].sum() + before[\"total 200s\"].sum()) * 100\n",
    "fail_rate_after = after[\"total errors\"].sum() / (after[\"total errors\"].sum() + after[\"total 200s\"].sum()) * 100\n",
    "\n",
    "print(f\"Total failure percentage before Feb 7 {fail_rate_before :6f}%\")\n",
    "print(f\"Total failure percentage after Feb 7 {fail_rate_after : 6f}%\")"
   ]
  }
 ],
 "metadata": {
  "kernelspec": {
   "display_name": "Python 3 (ipykernel)",
   "language": "python",
   "name": "python3"
  },
  "language_info": {
   "codemirror_mode": {
    "name": "ipython",
    "version": 3
   },
   "file_extension": ".py",
   "mimetype": "text/x-python",
   "name": "python",
   "nbconvert_exporter": "python",
   "pygments_lexer": "ipython3",
   "version": "3.10.10"
  }
 },
 "nbformat": 4,
 "nbformat_minor": 5
}
